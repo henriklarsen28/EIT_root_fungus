{
 "cells": [
  {
   "cell_type": "code",
   "execution_count": 13,
   "metadata": {},
   "outputs": [
    {
     "name": "stdout",
     "output_type": "stream",
     "text": [
      "Num GPUs Available:  1\n"
     ]
    }
   ],
   "source": [
    "import tensorflow as tf\n",
    "import pandas as pd\n",
    "print(\"Num GPUs Available: \", len(tf.config.experimental.list_physical_devices('GPU')))"
   ]
  },
  {
   "cell_type": "code",
   "execution_count": 14,
   "metadata": {},
   "outputs": [],
   "source": [
    "# Load the dataset\n",
    "df = pd.read_csv('../../dataset/TARP_preprocessed.csv')"
   ]
  },
  {
   "cell_type": "code",
   "execution_count": 15,
   "metadata": {},
   "outputs": [],
   "source": [
    "# Split the dataset into training and testing\n",
    "train_dataset = df.sample(frac=0.8, random_state=0)\n",
    "test_dataset = df.drop(train_dataset.index)\n",
    "X_train = train_dataset.drop('Percentage', axis=1)\n",
    "y_train = train_dataset['Percentage']\n",
    "X_test = test_dataset.drop('Percentage', axis=1)\n",
    "y_test = test_dataset['Percentage']"
   ]
  },
  {
   "cell_type": "code",
   "execution_count": 16,
   "metadata": {},
   "outputs": [
    {
     "name": "stdout",
     "output_type": "stream",
     "text": [
      "Epoch 1/10\n",
      "1999/1999 - 9s - loss: 0.0567 - val_loss: 0.0104 - 9s/epoch - 5ms/step\n",
      "Epoch 2/10\n",
      "1999/1999 - 9s - loss: 0.0194 - val_loss: 0.0093 - 9s/epoch - 5ms/step\n",
      "Epoch 3/10\n",
      "1999/1999 - 11s - loss: 0.0137 - val_loss: 0.0361 - 11s/epoch - 6ms/step\n",
      "Epoch 4/10\n",
      "1999/1999 - 15s - loss: 0.0103 - val_loss: 0.0055 - 15s/epoch - 8ms/step\n",
      "Epoch 5/10\n",
      "1999/1999 - 11s - loss: 0.0094 - val_loss: 0.0037 - 11s/epoch - 6ms/step\n",
      "Epoch 6/10\n",
      "1999/1999 - 12s - loss: 0.0061 - val_loss: 0.0112 - 12s/epoch - 6ms/step\n",
      "Epoch 7/10\n",
      "1999/1999 - 15s - loss: 0.0052 - val_loss: 0.0037 - 15s/epoch - 8ms/step\n",
      "Epoch 8/10\n",
      "1999/1999 - 17s - loss: 0.0045 - val_loss: 0.0038 - 17s/epoch - 8ms/step\n",
      "Epoch 9/10\n",
      "1999/1999 - 11s - loss: 0.0035 - val_loss: 0.0029 - 11s/epoch - 6ms/step\n",
      "Epoch 10/10\n",
      "1999/1999 - 11s - loss: 0.0034 - val_loss: 0.0041 - 11s/epoch - 6ms/step\n",
      "625/625 - 2s - loss: 0.0041 - 2s/epoch - 3ms/step\n"
     ]
    },
    {
     "data": {
      "text/plain": [
       "0.004129043780267239"
      ]
     },
     "execution_count": 16,
     "metadata": {},
     "output_type": "execute_result"
    }
   ],
   "source": [
    "# Create the model\n",
    "model = tf.keras.models.Sequential([\n",
    "    tf.keras.layers.Dense(64, activation='relu', input_shape=[len(X_train.keys())]),\n",
    "    tf.keras.layers.Dense(64, activation='relu'),\n",
    "    tf.keras.layers.Dense(1)\n",
    "])\n",
    "\n",
    "# Compile the model\n",
    "model.compile(optimizer='adam', loss='mean_squared_error')\n",
    "\n",
    "# Train the model\n",
    "model.fit(X_train, y_train, epochs=10, validation_split=0.2, verbose=2)\n",
    "\n",
    "# Early stopping\n",
    "callback = tf.keras.callbacks.EarlyStopping(\n",
    "    monitor='val_loss', min_delta=0, patience=0, verbose=0,\n",
    "    mode='auto', baseline=None, restore_best_weights=False\n",
    ")\n",
    "\n",
    "# Evaluate the model\n",
    "model.evaluate(X_test, y_test, verbose=2, callbacks=[callback])"
   ]
  },
  {
   "cell_type": "code",
   "execution_count": 18,
   "metadata": {},
   "outputs": [
    {
     "name": "stderr",
     "output_type": "stream",
     "text": [
      "/home/henrik/anaconda3/envs/tf-gpu/lib/python3.10/site-packages/keras/src/engine/training.py:3079: UserWarning: You are saving your model as an HDF5 file via `model.save()`. This file format is considered legacy. We recommend using instead the native Keras format, e.g. `model.save('my_model.keras')`.\n",
      "  saving_api.save_model(\n"
     ]
    }
   ],
   "source": [
    "# Save the model\n",
    "model.save('../../ml_models/fungus_model.h5')"
   ]
  }
 ],
 "metadata": {
  "kernelspec": {
   "display_name": "ML_competition_tdt4173",
   "language": "python",
   "name": "python3"
  },
  "language_info": {
   "codemirror_mode": {
    "name": "ipython",
    "version": 3
   },
   "file_extension": ".py",
   "mimetype": "text/x-python",
   "name": "python",
   "nbconvert_exporter": "python",
   "pygments_lexer": "ipython3",
   "version": "3.10.13"
  }
 },
 "nbformat": 4,
 "nbformat_minor": 2
}
